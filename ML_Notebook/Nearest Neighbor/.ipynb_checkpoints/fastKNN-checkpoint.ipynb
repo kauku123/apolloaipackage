{
 "cells": [
  {
   "cell_type": "code",
   "execution_count": 6,
   "metadata": {},
   "outputs": [],
   "source": [
    "import matplotlib.pyplot as plt\n",
    "import numpy as np\n",
    "import numpy.linalg as lin\n",
    "import matplotlib.patches as mpatches\n",
    "import scipy as sypy\n",
    "from scipy import signal\n",
    "from scipy import io\n",
    "\n",
    "\n",
    "def getDistance(x,y,p):  \n",
    "    [my,ny]=np.shape(y)\n",
    "    [mx,nx]=np.shape(x)\n",
    "    idx_v=np.array(np.zeros((my,mx)),dtype=np.uint8)\n",
    "    for i in range(my):\n",
    "        z=y[i,::]\n",
    "        v=sorted(np.sum(abs( (x[ ::,:-1:]-z) **p),1)**(1/p))\n",
    "        idx= np.argsort(np.sum(abs( (x[ ::,:-1:]-z) **p),1)**(1/p))\n",
    "    #         idx=sorted((np.sum(abs((x[ ::,:-1:]-z[np.ones(mx,1),:]**p),2))**(1/p)))\n",
    "        idx_v[i,::]=idx\n",
    "    return idx_v\n",
    "\n",
    "def fastKNN(trained, unknown, **kwargs):\n",
    "    \n",
    "    [m,n]=np.shape(unknown)\n",
    "    classified=np.array(np.zeros(m), dtype=np.uint8)\n",
    "    \n",
    "    l=len(kwargs)+2\n",
    "    if(l<=3):\n",
    "        distance=2\n",
    "    idx=getDistance(trained,unknown,distance)\n",
    "    \n",
    "    if(l<=2):\n",
    "        k=np.size(np.unique(trained[::,-1])) +1   \n",
    "    \n",
    "    for i in range(m):\n",
    "        tr=idx[i,0:k]\n",
    "        for j in range(0,len(tr)):\n",
    "#             trained_in[j]=trained[tr(j),:-1:]\n",
    "            [mode_value, mode_count]=mode(trained[tr[j],-1])\n",
    "        classified[i]=np.array(mode_value,dtype=np.uint8)        \n",
    "    return [classified,k,idx]"
   ]
  },
  {
   "cell_type": "code",
   "execution_count": null,
   "metadata": {},
   "outputs": [],
   "source": []
  }
 ],
 "metadata": {
  "kernelspec": {
   "display_name": "Python 3",
   "language": "python",
   "name": "python3"
  },
  "language_info": {
   "codemirror_mode": {
    "name": "ipython",
    "version": 3
   },
   "file_extension": ".py",
   "mimetype": "text/x-python",
   "name": "python",
   "nbconvert_exporter": "python",
   "pygments_lexer": "ipython3",
   "version": "3.5.2"
  }
 },
 "nbformat": 4,
 "nbformat_minor": 2
}
