{
 "cells": [
  {
   "cell_type": "code",
   "execution_count": 265,
   "metadata": {},
   "outputs": [
    {
     "data": {
      "text/plain": [
       "[<matplotlib.lines.Line2D at 0x1f11b30a0b8>]"
      ]
     },
     "execution_count": 265,
     "metadata": {},
     "output_type": "execute_result"
    },
    {
     "data": {
      "text/plain": [
       "Text(0.5,1,'Data from R.J.Gladstone study, 1905')"
      ]
     },
     "execution_count": 265,
     "metadata": {},
     "output_type": "execute_result"
    },
    {
     "data": {
      "text/plain": [
       "Text(0.5,0,'Head size, cm^3')"
      ]
     },
     "execution_count": 265,
     "metadata": {},
     "output_type": "execute_result"
    },
    {
     "data": {
      "text/plain": [
       "Text(0,0.5,'Brain weight (grams) ')"
      ]
     },
     "execution_count": 265,
     "metadata": {},
     "output_type": "execute_result"
    },
    {
     "data": {
      "image/png": "[encoded data removed]",
      "text/plain": [
       "<matplotlib.figure.Figure at 0x1f119e01ef0>"
      ]
     },
     "metadata": {},
     "output_type": "display_data"
    }
   ],
   "source": [
    "# linear_regression.m.\n",
    "# Kiran Gunnam\n",
    "# \n",
    "\n",
    "import matplotlib.pyplot as plt\n",
    "import numpy as np\n",
    "import numpy.linalg as lin\n",
    "import matplotlib.patches as mpatches\n",
    "\n",
    "\n",
    "\n",
    "#Dataset:  brainhead.txt\n",
    "#Source: R.J. Gladstone (1905). \"A Study of the Relations of the Brain to \n",
    "#to the Size of the Head\", Biometrika, Vol. 4, pp105-123\n",
    "#Description: Brain weight (grams) and head size (cubic cm) for 237\n",
    "#adults \n",
    "#Variables\n",
    "#First column Head size (cm^3)  \n",
    "#Second column Brain weight (grams)  \n",
    "\n",
    "br=np.loadtxt(\"brainhead.txt\")\n",
    "\n",
    "\n",
    "br_x=br[:,0]    # x independent variable/experimental variable/predictor variable,  (head size )\n",
    "br_y=br[:,1]    # y dependent variable/outcome variable (Brain weight )\n",
    "n=np.size(br_y) # data size\n",
    "\n",
    "\n",
    "plt.plot(br_x,br_y,'bd')              # Plot the data; marker 'bd' =blue diamonds\n",
    "plt.title ('Data from R.J.Gladstone study, 1905')\n",
    "plt.xlabel('Head size, cm^3');        # Set the x-axis label\n",
    "plt.ylabel('Brain weight (grams) ');  # Set the y-axis label\n",
    "plt.show()                            #hold on retains the current plot and certain \n"
   ]
  },
  {
   "cell_type": "code",
   "execution_count": 4,
   "metadata": {},
   "outputs": [
    {
     "ename": "NameError",
     "evalue": "name 'br_x' is not defined",
     "output_type": "error",
     "traceback": [
      "\u001b[0;31m---------------------------------------------------------------------------\u001b[0m",
      "\u001b[0;31mNameError\u001b[0m                                 Traceback (most recent call last)",
      "\u001b[0;32m<ipython-input-4-c7a8a8440047>\u001b[0m in \u001b[0;36m<module>\u001b[0;34m()\u001b[0m\n\u001b[1;32m      7\u001b[0m \u001b[0;31m# add a column of all ones (intercept term) to x\u001b[0m\u001b[0;34m\u001b[0m\u001b[0;34m\u001b[0m\u001b[0m\n\u001b[1;32m      8\u001b[0m \u001b[0;31m# BR_X = [ones(n, 1) br_x];\u001b[0m\u001b[0;34m\u001b[0m\u001b[0;34m\u001b[0m\u001b[0m\n\u001b[0;32m----> 9\u001b[0;31m \u001b[0mBR_X\u001b[0m \u001b[0;34m=\u001b[0m \u001b[0mnp\u001b[0m\u001b[0;34m.\u001b[0m\u001b[0mvstack\u001b[0m\u001b[0;34m(\u001b[0m\u001b[0;34m[\u001b[0m\u001b[0mbr_x\u001b[0m\u001b[0;34m,\u001b[0m \u001b[0mnp\u001b[0m\u001b[0;34m.\u001b[0m\u001b[0mones\u001b[0m\u001b[0;34m(\u001b[0m\u001b[0mlen\u001b[0m\u001b[0;34m(\u001b[0m\u001b[0mbr_x\u001b[0m\u001b[0;34m)\u001b[0m\u001b[0;34m)\u001b[0m\u001b[0;34m]\u001b[0m\u001b[0;34m)\u001b[0m\u001b[0;34m.\u001b[0m\u001b[0mT\u001b[0m\u001b[0;34m\u001b[0m\u001b[0m\n\u001b[0m\u001b[1;32m     10\u001b[0m \u001b[0;31m# and compare the results.\u001b[0m\u001b[0;34m\u001b[0m\u001b[0;34m\u001b[0m\u001b[0m\n\u001b[1;32m     11\u001b[0m \u001b[0;34m\u001b[0m\u001b[0m\n",
      "\u001b[0;31mNameError\u001b[0m: name 'br_x' is not defined"
     ]
    }
   ],
   "source": [
    "import numpy as np\n",
    "#Now, we want to allow a non-zero intercept for our linear equation. \n",
    "#That is, we don't want to require that our fitted equation go through the origin. \n",
    "#In order to do this, we need to add a column of all ones to our x column.#\n",
    "\n",
    "# To make sure that regression line does not go through origin\n",
    "# add a column of all ones (intercept term) to x\n",
    "# BR_X = [ones(n, 1) br_x];\n",
    "BR_X = np.vstack([br_x, np.ones(len(br_x))]).T\n",
    "# and compare the results.\n",
    "\n",
    "# Given a matrix equation\n",
    "# X * theta=y, \n",
    "# the normal equation is that which minimizes the sum of the square differences \n",
    "# between the left and right sides:\n",
    "# X'*X*theta=X'*y. \n",
    "# It is called a normal equation because y-X*theta is normal to the range of X.\n",
    "# Here, X'*X is a normal matrix.\n",
    "\n",
    "# Putting that into Octave:\n",
    "# Calculate theta\n",
    "# theta = (pinv(X'*X))*X'*y\n",
    "\n",
    "# Or simply use backward slice operator\n",
    "theta = lin.lstsq(BR_X,br_y)[0]  \n",
    "\n",
    "#minimize norm(X*theta-y) via a QR factorization\n",
    "# we can also use the equivalent command \n",
    "# theta=mldivide(X,y)\n",
    "# You should get theta = [ 325.57342 0.26343]. \n",
    "# This means that our fitted equation is as follows: \n",
    "# y = 0.26343x + 325.57342.\n",
    "\n",
    "\n",
    "theta1= np.ones(len(BR_X))\n",
    "theta1= theta1*theta[1]\n",
    "br_y_est=np.add(BR_X[:,0]*theta[0],theta1) ;\n",
    "\n",
    "# Now, let's plot our fitted equation (prediction) on top \n",
    "# of the training data, to see if our fitted equation makes \n",
    "# sense.\n",
    "\n",
    "# Plot the fitted equation we got from the regression\n",
    "\n",
    "#tr_plot=plt.plot(br_x,br_y,'rd',label='Training data')\n",
    "#lin_reg= plt.plot(br_x,br_y_est,'b-', label='Linear Regression')          # Plot the data; marker 'bd' =blue diamonds\n",
    "\n",
    "plt.plot(br_x,br_y,'bd',br_x,br_y_est,'r-')\n",
    "plt.title ('Data from R.J.Gladstone study, 1905')\n",
    "plt.xlabel('Head size, cm^3');    # Set the x-axis label\n",
    "plt.ylabel('Brain weight (grams) ');  # Set the y-axis label\n",
    "\n",
    "plt.legend(('Training data','Linear regression'),loc='upper left')\n",
    "plt.show()                            #hold on retains the current plot and certain \n",
    "print (\"hello\")"
   ]
  },
  {
   "cell_type": "code",
   "execution_count": 267,
   "metadata": {},
   "outputs": [],
   "source": [
    "# Evaluate each fit you make in the context of your data. For example, \n",
    "# if your goal of fitting the data is to extract coefficients that have \n",
    "# physical meaning, then it is important that your model reflect the \n",
    "# physics of the data. Understanding what your data represents, \n",
    "# how it was measured, and how it is modeled is important when evaluating \n",
    "# the goodness of fit.\n",
    "\n",
    "# One measure of goodness of fit is the coefficient of determination, \n",
    "# or R^2 (pronounced r-square). This statistic indicates how closely \n",
    "# values you obtain from fitting a model match the dependent variable \n",
    "# the model is intended to predict. Statisticians often define R^2 \n",
    "# using the residual variance from a fitted model:\n",
    "# R^2 = 1 – SSresid / SStotal\n",
    "# SSresid is the sum of the squared residuals from the regression. \n",
    "# SStotal is the sum of the squared differences from the mean \n",
    "# of the dependent variable (total sum of squares). Both are positive scalars.\n",
    "# Residuals are the difference between the observed values of the response (dependent)\n",
    "# variable and the values that a model predicts. When you fit a model that is \n",
    "# appropriate for your data, the residuals approximate independent random errors. \n",
    "# That is, the distribution of residuals ought not to exhibit a discernible pattern.\n",
    "# Producing a fit using a linear model requires minimizing the sum of the squares\n",
    "# of the residuals. This minimization yields what is called a least-squares fit. \n",
    "# You can gain insight into the \"goodness\" of a fit by visually examining a plot \n",
    "# of the residuals. If the residual plot has a pattern (that is, residual data\n",
    "# points do not appear to have a random scatter), the randomness indicates\n",
    "# that the model does not properly fit the data.\n",
    "\n",
    "# The higher the value of R-square , the better the model is at predicting the data.\n",
    "# Say if Rsq is 0.7, we can say that 70% of the variation in dependent\n",
    "# variable is explained by the independent variable.\n",
    "\n",
    "residuals=br_y-br_y_est\n",
    "Rsq = 1 - sum(residuals**2)/sum((br_y - np.mean(br_y))**2)\n"
   ]
  },
  {
   "cell_type": "code",
   "execution_count": 268,
   "metadata": {},
   "outputs": [],
   "source": [
    "# also examine mean and standard deviation of residuals.\n",
    "mean_residuals=np.mean(residuals)\n",
    "std_residuals=np.std(residuals)"
   ]
  },
  {
   "cell_type": "code",
   "execution_count": 282,
   "metadata": {},
   "outputs": [
    {
     "data": {
      "text/plain": [
       "[<matplotlib.lines.Line2D at 0x1f11c6dedd8>,\n",
       " <matplotlib.lines.Line2D at 0x1f11c6def28>]"
      ]
     },
     "execution_count": 282,
     "metadata": {},
     "output_type": "execute_result"
    },
    {
     "data": {
      "text/plain": [
       "Text(0.5,0,'data index')"
      ]
     },
     "execution_count": 282,
     "metadata": {},
     "output_type": "execute_result"
    },
    {
     "data": {
      "text/plain": [
       "Text(0,0.5,'residuals')"
      ]
     },
     "execution_count": 282,
     "metadata": {},
     "output_type": "execute_result"
    },
    {
     "data": {
      "text/plain": [
       "<matplotlib.legend.Legend at 0x1f11c6e8940>"
      ]
     },
     "execution_count": 282,
     "metadata": {},
     "output_type": "execute_result"
    },
    {
     "data": {
      "image/png": "[encoded data removed]",
      "text/plain": [
       "<matplotlib.figure.Figure at 0x1f11c665be0>"
      ]
     },
     "metadata": {},
     "output_type": "display_data"
    }
   ],
   "source": [
    "x_range= range(0,n)\n",
    "ref=np.ones(n)\n",
    "plt.plot(x_range,residuals,'bo',x_range,ref,'r-')\n",
    "plt.xlabel('data index')\n",
    "plt.ylabel('residuals')\n",
    "\n",
    "plt.legend(('residuals','zero line'), loc='upper right')\n",
    "plt.show()"
   ]
  },
  {
   "cell_type": "code",
   "execution_count": null,
   "metadata": {},
   "outputs": [],
   "source": []
  }
 ],
 "metadata": {
  "kernelspec": {
   "display_name": "Python 2",
   "language": "python",
   "name": "python2"
  },
  "language_info": {
   "codemirror_mode": {
    "name": "ipython",
    "version": 2
   },
   "file_extension": ".py",
   "mimetype": "text/x-python",
   "name": "python",
   "nbconvert_exporter": "python",
   "pygments_lexer": "ipython2",
   "version": "2.7.12"
  }
 },
 "nbformat": 4,
 "nbformat_minor": 2
}
