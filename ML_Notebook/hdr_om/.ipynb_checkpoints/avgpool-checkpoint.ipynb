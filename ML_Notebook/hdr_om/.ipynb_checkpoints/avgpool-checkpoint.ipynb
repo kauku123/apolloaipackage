{
 "cells": [
  {
   "cell_type": "code",
   "execution_count": 8,
   "metadata": {},
   "outputs": [],
   "source": [
    "import matplotlib.pyplot as plt\n",
    "import numpy as np\n",
    "import numpy.linalg as lin\n",
    "import matplotlib.patches as mpatches\n",
    "\n",
    "def avgpool(img):\n",
    "    pr= np.zeros(np.size(img)/2)\n",
    "    for r in range(0,np.size(img,0),2):\n",
    "        for c in range(0,n.size(img,1)):\n",
    "            pr[[r+1]/2,[c+1]/2] = (img[r][c]+img[r+1][c]+img[r][c+1]+img[r+1][c+1])/4;\n",
    "    return pr\n",
    "    \n",
    "    \n",
    "def maxpool(img):\n",
    "    pr= np.zeros(np.size(img)/2)\n",
    "    for r in range(0,np.size(img,0),2):\n",
    "        for c in range(0,n.size(img,1)):\n",
    "            pr[[r+1]/2,[c+1]/2] = np.max(img[r][c]+img[r+1][c]+img[r][c+1]+img[r+1][c+1]);\n",
    "    return pr"
   ]
  }
 ],
 "metadata": {
  "kernelspec": {
   "display_name": "Python 3",
   "language": "python",
   "name": "python3"
  },
  "language_info": {
   "codemirror_mode": {
    "name": "ipython",
    "version": 3
   },
   "file_extension": ".py",
   "mimetype": "text/x-python",
   "name": "python",
   "nbconvert_exporter": "python",
   "pygments_lexer": "ipython3",
   "version": "3.5.2"
  }
 },
 "nbformat": 4,
 "nbformat_minor": 2
}
