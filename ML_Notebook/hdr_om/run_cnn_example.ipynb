{
 "cells": [
  {
   "cell_type": "code",
   "execution_count": 2,
   "metadata": {},
   "outputs": [
    {
     "name": "stdout",
     "output_type": "stream",
     "text": [
      "['Error: 4897.94292943 at iteration 0']\n",
      "['Error: 3939.32977743 at iteration 1']\n",
      "['Error: 3865.18600904 at iteration 2']\n",
      "['Error: 3631.08418135 at iteration 3']\n",
      "['Error: 3620.52896353 at iteration 4']\n",
      "['Error: 3609.19594758 at iteration 5']\n",
      "['Error: 3593.48687932 at iteration 6']\n",
      "['Error: 3575.13166969 at iteration 7']\n",
      "['Error: 3556.16410685 at iteration 8']\n",
      "['Error: 3535.29918794 at iteration 9']\n",
      "training parameters are created\n"
     ]
    },
    {
     "ename": "NameError",
     "evalue": "name 'end' is not defined",
     "output_type": "error",
     "traceback": [
      "\u001b[1;31m---------------------------------------------------------------------------\u001b[0m",
      "\u001b[1;31mNameError\u001b[0m                                 Traceback (most recent call last)",
      "\u001b[1;32m<ipython-input-2-4786b8d106a9>\u001b[0m in \u001b[0;36m<module>\u001b[1;34m()\u001b[0m\n\u001b[0;32m     52\u001b[0m         \u001b[0mprint\u001b[0m\u001b[1;33m(\u001b[0m\u001b[1;34m'using previously trained parameters'\u001b[0m\u001b[1;33m)\u001b[0m\u001b[1;33m;\u001b[0m\u001b[1;33m\u001b[0m\u001b[0m\n\u001b[0;32m     53\u001b[0m     \u001b[0mend\u001b[0m\u001b[1;33m\u001b[0m\u001b[0m\n\u001b[1;32m---> 54\u001b[1;33m \u001b[0mend\u001b[0m\u001b[1;33m\u001b[0m\u001b[0m\n\u001b[0m\u001b[0;32m     55\u001b[0m \u001b[1;33m\u001b[0m\u001b[0m\n\u001b[0;32m     56\u001b[0m \u001b[0mtstart2\u001b[0m\u001b[1;33m=\u001b[0m \u001b[0mtime\u001b[0m\u001b[1;33m.\u001b[0m\u001b[0mtime\u001b[0m\u001b[1;33m(\u001b[0m\u001b[1;33m)\u001b[0m\u001b[1;33m\u001b[0m\u001b[0m\n",
      "\u001b[1;31mNameError\u001b[0m: name 'end' is not defined"
     ]
    }
   ],
   "source": [
    "# %%Kiran Gunnam\n",
    "\n",
    "import matplotlib.pyplot as plt\n",
    "import numpy as np\n",
    "import numpy.linalg as lin\n",
    "import matplotlib.patches as mpatches\n",
    "import scipy as sypy\n",
    "import time\n",
    "import os.path\n",
    "\n",
    "from scipy import signal\n",
    "from scipy import io\n",
    "from numpy import ndarray\n",
    "\n",
    "from ipynb.fs.full.cnn import cnnload\n",
    "from ipynb.fs.full.avgpool import avgpool\n",
    "from ipynb.fs.full.avgpool import maxpool\n",
    "from ipynb.fs.full.cnn_training import cnn_training\n",
    "from ipynb.fs.full.cnn_inference import cnn_inference\n",
    "\n",
    "[trainlabels,trainimages,testlabels,testimages] = cnnload();\n",
    "\n",
    "use_previous_training=0\n",
    "\n",
    "maxtrain=2000; #maximum training images\n",
    "iter= 10; # maximum iterations\n",
    "eta=0.01; # learning rate\n",
    "#  \n",
    "#  maxtrain=10000; #maximum training images\n",
    "#  iter= 10; #maximum iterations\n",
    "#  eta=0.01; # learning rate\n",
    "\n",
    "#  maxtrain=60000; #maximum training images\n",
    "#  iter= 30; #maximum iterations\n",
    "#  eta=0.01; #learning rate\n",
    "\n",
    "# select the pooling\n",
    "# pool='maxpool';\n",
    "pool= 'avgpool';\n",
    "\n",
    "\n",
    "trained_parameter_file ='trained_parameters'+'_maxtrain'+str(maxtrain)+'_iter'+str(iter)+'_eta'+str(eta)+ pool+'.mat';    \n",
    "\n",
    "if(use_previous_training==0):  \n",
    "    tstart= time.time()\n",
    "    cnn_training(trainlabels,trainimages,maxtrain,iter,eta,pool,trained_parameter_file);\n",
    "    tfinish= time.time() -tstart\n",
    "    if(os.path.isfile(trained_parameter_file)):\n",
    "        print('training parameters are created');\n",
    "else:\n",
    "    if(os.path.isfile(trained_parameter_file)):\n",
    "        print('using previously trained parameters');\n",
    "\n",
    "\n",
    "tstart2= time.time()\n",
    "[missimages, misslabels] = cnn_inference(testlabels,testimages,pool,trained_parameter_file);\n",
    "tfinish2= time.time()-tstart\n",
    "\n"
   ]
  },
  {
   "cell_type": "code",
   "execution_count": null,
   "metadata": {},
   "outputs": [],
   "source": []
  }
 ],
 "metadata": {
  "kernelspec": {
   "display_name": "Python 2",
   "language": "python",
   "name": "python2"
  },
  "language_info": {
   "codemirror_mode": {
    "name": "ipython",
    "version": 2
   },
   "file_extension": ".py",
   "mimetype": "text/x-python",
   "name": "python",
   "nbconvert_exporter": "python",
   "pygments_lexer": "ipython2",
   "version": "2.7.12"
  }
 },
 "nbformat": 4,
 "nbformat_minor": 2
}
